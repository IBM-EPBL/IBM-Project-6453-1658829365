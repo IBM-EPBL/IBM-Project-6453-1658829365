{
  "cells": [
    {
      "cell_type": "code",
      "execution_count": null,
      "metadata": {
        "id": "AIje8vFHqjjZ"
      },
      "outputs": [],
      "source": [
        "#import keras libraries\n",
        "from keras.models import Sequential\n",
        "from keras.layers import Dense\n",
        "from keras.layers import Convolution2D\n",
        "from keras.layers import MaxPooling2D\n",
        "from keras.layers import Flatten"
      ]
    },
    {
      "cell_type": "code",
      "execution_count": null,
      "metadata": {
        "id": "ByrG0i-uq3Vc"
      },
      "outputs": [],
      "source": [
        "#image preprocessing(or) image augmentation\n",
        "from keras.preprocessing.image import ImageDataGenerator"
      ]
    },
    {
      "cell_type": "code",
      "execution_count": null,
      "metadata": {
        "id": "wQ72JQV7q6q4"
      },
      "outputs": [],
      "source": [
        "train_datagen = ImageDataGenerator(rescale=1./255,shear_range=0.2,zoom_range=0.2,horizontal_flip=True,vertical_flip=True)\n",
        "#rescale => rescaling pixel value from 0 to 255 to 0 to 1\n",
        "#shear_range=> counter clock wise rotation(anti clock)"
      ]
    },
    {
      "cell_type": "code",
      "execution_count": null,
      "metadata": {
        "id": "o9m6Rp8Pq9fM"
      },
      "outputs": [],
      "source": [
        "test_datagen = ImageDataGenerator(rescale=1./255)"
      ]
    },
    {
      "cell_type": "code",
      "execution_count": null,
      "metadata": {
        "colab": {
          "base_uri": "https://localhost:8080/"
        },
        "id": "VZe8CkbBrBoF",
        "outputId": "b9bc94b6-3f63-4f0d-8373-06eedbb796f3"
      },
      "outputs": [
        {
          "name": "stdout",
          "output_type": "stream",
          "text": [
            "Found 2410 images belonging to 1 classes.\n"
          ]
        }
      ],
      "source": [
        "x_train = train_datagen.flow_from_directory(\"/content/drive/MyDrive/TRAINING SET\",target_size=(64,64),batch_size=32,class_mode=\"binary\")"
      ]
    },
    {
      "cell_type": "code",
      "execution_count": null,
      "metadata": {
        "colab": {
          "base_uri": "https://localhost:8080/"
        },
        "id": "TtJbvtwArEH1",
        "outputId": "716a9adf-5cf0-4019-80a6-140828c17598"
      },
      "outputs": [
        {
          "name": "stdout",
          "output_type": "stream",
          "text": [
            "Found 1055 images belonging to 5 classes.\n"
          ]
        }
      ],
      "source": [
        "x_test = test_datagen.flow_from_directory(\"/content/drive/MyDrive/TEST_SET\",target_size=(64,64),batch_size=32,class_mode=\"binary\")"
      ]
    },
    {
      "cell_type": "code",
      "execution_count": 45,
      "metadata": {
        "colab": {
          "base_uri": "https://localhost:8080/"
        },
        "id": "_aFsHoQVrEPP",
        "outputId": "d1ab4a08-d6e7-46de-e874-7eb7df58e656"
      },
      "outputs": [
        {
          "output_type": "execute_result",
          "data": {
            "text/plain": [
              "{'TRAIN_SET': 0}"
            ]
          },
          "metadata": {},
          "execution_count": 45
        }
      ],
      "source": [
        "x_train.class_indices"
      ]
    },
    {
      "cell_type": "code",
      "execution_count": null,
      "metadata": {
        "colab": {
          "base_uri": "https://localhost:8080/"
        },
        "id": "Y1YvlpCMrETw",
        "outputId": "d6bfb46e-07ff-4635-fb44-4c271676561c"
      },
      "outputs": [
        {
          "name": "stdout",
          "output_type": "stream",
          "text": [
            "{'APPLES': 0, 'BANANA': 1, 'ORANGE': 2, 'PINEAPPLE': 3, 'WATERMELON': 4}\n"
          ]
        }
      ],
      "source": [
        "#checking the number of classes\n",
        "print(x_test.class_indices)"
      ]
    },
    {
      "cell_type": "code",
      "execution_count": null,
      "metadata": {
        "colab": {
          "base_uri": "https://localhost:8080/"
        },
        "id": "MGFvj7tKrEXY",
        "outputId": "744fb1b8-d29c-4b4e-9a6e-c3a289337c6c"
      },
      "outputs": [
        {
          "data": {
            "text/plain": [
              "Counter({0: 2410})"
            ]
          },
          "execution_count": 10,
          "metadata": {},
          "output_type": "execute_result"
        }
      ],
      "source": [
        "from collections import Counter as c\n",
        "c(x_train .labels)"
      ]
    },
    {
      "cell_type": "code",
      "execution_count": null,
      "metadata": {
        "id": "2DRo-g87rEeM"
      },
      "outputs": [],
      "source": [
        "#Initializing the model\n",
        "model = Sequential()"
      ]
    },
    {
      "cell_type": "code",
      "execution_count": null,
      "metadata": {
        "id": "KSuPs_dNrEjM"
      },
      "outputs": [],
      "source": [
        "# add First convolution layer"
      ]
    },
    {
      "cell_type": "code",
      "execution_count": null,
      "metadata": {
        "id": "iat2wUs2rEpm"
      },
      "outputs": [],
      "source": [
        "model.add(Convolution2D(32,(3,3),input_shape=(64,64,3),activation=\"relu\"))\n",
        "# 32 indicates => no of feature detectors\n",
        "#(3,3)=> kernel size (feature detector size)"
      ]
    },
    {
      "cell_type": "code",
      "execution_count": null,
      "metadata": {
        "id": "oGRBOaldreD1"
      },
      "outputs": [],
      "source": [
        "# add Maxpooling layer"
      ]
    },
    {
      "cell_type": "code",
      "execution_count": null,
      "metadata": {
        "id": "5X-UoTG_reKL"
      },
      "outputs": [],
      "source": [
        "model.add(MaxPooling2D(pool_size=(2,2)))"
      ]
    },
    {
      "cell_type": "code",
      "execution_count": null,
      "metadata": {
        "id": "K9rhn3ZgreO9"
      },
      "outputs": [],
      "source": [
        "#Second convolution layer and pooling\n",
        "model.add(Convolution2D(32,(3,3),activation='relu'))"
      ]
    },
    {
      "cell_type": "code",
      "execution_count": null,
      "metadata": {
        "id": "8zZcuCGEreTQ"
      },
      "outputs": [],
      "source": [
        "model.add(MaxPooling2D(pool_size=(2,2)))"
      ]
    },
    {
      "cell_type": "code",
      "execution_count": null,
      "metadata": {
        "id": "MFrM67c3reW7"
      },
      "outputs": [],
      "source": [
        "#Flattening the layers\n",
        "model.add(Flatten())"
      ]
    },
    {
      "cell_type": "code",
      "execution_count": null,
      "metadata": {
        "id": "KkSKvuKrreaF"
      },
      "outputs": [],
      "source": [
        "model.add(Dense(units=128,activation='relu'))"
      ]
    },
    {
      "cell_type": "code",
      "execution_count": null,
      "metadata": {
        "id": "MUDD0E5-r1Ph"
      },
      "outputs": [],
      "source": [
        "model.add(Dense(units=5,activation='softmax'))"
      ]
    },
    {
      "cell_type": "code",
      "execution_count": null,
      "metadata": {
        "id": "2ezIjg5mr1Mb"
      },
      "outputs": [],
      "source": [
        "# add flatten layer => input to your ANN  "
      ]
    },
    {
      "cell_type": "code",
      "execution_count": null,
      "metadata": {
        "id": "NykBZ9Okr1JB"
      },
      "outputs": [],
      "source": [
        "model.add(Flatten())"
      ]
    },
    {
      "cell_type": "code",
      "execution_count": null,
      "metadata": {
        "colab": {
          "base_uri": "https://localhost:8080/"
        },
        "id": "KOlOjIl9r1F1",
        "outputId": "eedb3736-c788-4751-ac05-53489d880643"
      },
      "outputs": [
        {
          "name": "stdout",
          "output_type": "stream",
          "text": [
            "Model: \"sequential\"\n",
            "_________________________________________________________________\n",
            " Layer (type)                Output Shape              Param #   \n",
            "=================================================================\n",
            " conv2d (Conv2D)             (None, 62, 62, 32)        896       \n",
            "                                                                 \n",
            " max_pooling2d (MaxPooling2D  (None, 31, 31, 32)       0         \n",
            " )                                                               \n",
            "                                                                 \n",
            " conv2d_1 (Conv2D)           (None, 29, 29, 32)        9248      \n",
            "                                                                 \n",
            " max_pooling2d_1 (MaxPooling  (None, 14, 14, 32)       0         \n",
            " 2D)                                                             \n",
            "                                                                 \n",
            " flatten (Flatten)           (None, 6272)              0         \n",
            "                                                                 \n",
            " dense (Dense)               (None, 128)               802944    \n",
            "                                                                 \n",
            " dense_1 (Dense)             (None, 5)                 645       \n",
            "                                                                 \n",
            " flatten_1 (Flatten)         (None, 5)                 0         \n",
            "                                                                 \n",
            "=================================================================\n",
            "Total params: 813,733\n",
            "Trainable params: 813,733\n",
            "Non-trainable params: 0\n",
            "_________________________________________________________________\n"
          ]
        }
      ],
      "source": [
        "model.summary()"
      ]
    },
    {
      "cell_type": "code",
      "execution_count": null,
      "metadata": {
        "id": "6DyaYAQRr1BZ"
      },
      "outputs": [],
      "source": [
        "# adding dense layer"
      ]
    },
    {
      "cell_type": "code",
      "execution_count": null,
      "metadata": {
        "id": "M1zvnBICr08x"
      },
      "outputs": [],
      "source": [
        "#hidden layer"
      ]
    },
    {
      "cell_type": "code",
      "execution_count": null,
      "metadata": {
        "id": "BdYqMjT_r00i"
      },
      "outputs": [],
      "source": [
        "model.add(Dense(units=300,kernel_initializer=\"random_uniform\",activation=\"relu\"))"
      ]
    },
    {
      "cell_type": "code",
      "execution_count": null,
      "metadata": {
        "id": "ssrYwTaFsSim"
      },
      "outputs": [],
      "source": [
        "model.add(Dense(units=200,kernel_initializer=\"random_uniform\",activation=\"relu\"))"
      ]
    },
    {
      "cell_type": "code",
      "execution_count": null,
      "metadata": {
        "id": "timDeFcksSmM"
      },
      "outputs": [],
      "source": [
        "#output layer"
      ]
    },
    {
      "cell_type": "code",
      "execution_count": null,
      "metadata": {
        "colab": {
          "base_uri": "https://localhost:8080/"
        },
        "id": "pjgM2lvisSsS",
        "outputId": "596a1652-de45-4c0f-be05-91fdb5bdc8f7"
      },
      "outputs": [
        {
          "data": {
            "text/plain": [
              "76"
            ]
          },
          "execution_count": 29,
          "metadata": {},
          "output_type": "execute_result"
        }
      ],
      "source": [
        "model.add(Dense(units=4,kernel_initializer=\"random_uniform\",activation=\"softmax\"))\n",
        "len(x_train)"
      ]
    },
    {
      "cell_type": "code",
      "execution_count": null,
      "metadata": {
        "id": "JRN6TN5FsSvU"
      },
      "outputs": [],
      "source": [
        "#Ann starts so need to add dense layers"
      ]
    },
    {
      "cell_type": "code",
      "execution_count": null,
      "metadata": {
        "id": "BUGKl1ZfsS1a"
      },
      "outputs": [],
      "source": [
        "model.add(Dense(units=128,activation=\"relu\",kernel_initializer=\"random_uniform\"))"
      ]
    },
    {
      "cell_type": "code",
      "execution_count": null,
      "metadata": {
        "id": "TRc7MiGpsS4t"
      },
      "outputs": [],
      "source": [
        "model.add(Dense(units=1,activation=\"sigmoid\",kernel_initializer=\"random_uniform\"))"
      ]
    },
    {
      "cell_type": "code",
      "execution_count": null,
      "metadata": {
        "id": "liXCAMPwsS7p"
      },
      "outputs": [],
      "source": [
        "#Compile the model\n",
        "model.compile(loss=\"binary_crossentropy\",optimizer=\"adam\",metrics=['accuracy'])"
      ]
    },
    {
      "cell_type": "code",
      "execution_count": null,
      "metadata": {
        "id": "_R9_yOyesj9V"
      },
      "outputs": [],
      "source": [
        "#Train the model"
      ]
    },
    {
      "cell_type": "code",
      "execution_count": null,
      "metadata": {
        "colab": {
          "background_save": true,
          "base_uri": "https://localhost:8080/"
        },
        "id": "crjG10gpskDq",
        "outputId": "7ade7bad-ad01-4da5-bc4d-8ae00553aeda"
      },
      "outputs": [
        {
          "name": "stderr",
          "output_type": "stream",
          "text": [
            "/usr/local/lib/python3.7/dist-packages/ipykernel_launcher.py:1: UserWarning: `Model.fit_generator` is deprecated and will be removed in a future version. Please use `Model.fit`, which supports generators.\n",
            "  \"\"\"Entry point for launching an IPython kernel.\n"
          ]
        },
        {
          "name": "stdout",
          "output_type": "stream",
          "text": [
            "Epoch 1/20\n",
            "76/76 [==============================] - 1126s 15s/step - loss: 0.5231 - accuracy: 1.0000 - val_loss: 2.7130 - val_accuracy: 0.1488\n",
            "Epoch 2/20\n",
            "76/76 [==============================] - 20s 269ms/step - loss: 0.1090 - accuracy: 1.0000 - val_loss: 6.5377 - val_accuracy: 0.1488\n",
            "Epoch 3/20\n",
            "76/76 [==============================] - 18s 239ms/step - loss: 0.0231 - accuracy: 1.0000 - val_loss: 8.5996 - val_accuracy: 0.1488\n",
            "Epoch 4/20\n",
            "76/76 [==============================] - 20s 260ms/step - loss: 0.0100 - accuracy: 1.0000 - val_loss: 9.9028 - val_accuracy: 0.1488\n",
            "Epoch 5/20\n",
            "76/76 [==============================] - 18s 235ms/step - loss: 0.0057 - accuracy: 1.0000 - val_loss: 10.8620 - val_accuracy: 0.1488\n",
            "Epoch 6/20\n",
            "76/76 [==============================] - 18s 238ms/step - loss: 0.0037 - accuracy: 1.0000 - val_loss: 11.6241 - val_accuracy: 0.1488\n",
            "Epoch 7/20\n",
            "76/76 [==============================] - 20s 259ms/step - loss: 0.0026 - accuracy: 1.0000 - val_loss: 12.2582 - val_accuracy: 0.1488\n",
            "Epoch 8/20\n",
            "76/76 [==============================] - 18s 240ms/step - loss: 0.0019 - accuracy: 1.0000 - val_loss: 12.8024 - val_accuracy: 0.1488\n",
            "Epoch 9/20\n",
            "76/76 [==============================] - 18s 238ms/step - loss: 0.0015 - accuracy: 1.0000 - val_loss: 13.2800 - val_accuracy: 0.1488\n",
            "Epoch 10/20\n",
            "76/76 [==============================] - 20s 259ms/step - loss: 0.0012 - accuracy: 1.0000 - val_loss: 13.7064 - val_accuracy: 0.1488\n",
            "Epoch 11/20\n",
            "76/76 [==============================] - 18s 237ms/step - loss: 9.8283e-04 - accuracy: 1.0000 - val_loss: 14.0920 - val_accuracy: 0.1488\n",
            "Epoch 12/20\n",
            "76/76 [==============================] - 18s 241ms/step - loss: 8.1734e-04 - accuracy: 1.0000 - val_loss: 14.4445 - val_accuracy: 0.1488\n",
            "Epoch 13/20\n",
            "76/76 [==============================] - 20s 262ms/step - loss: 6.8995e-04 - accuracy: 1.0000 - val_loss: 14.7696 - val_accuracy: 0.1488\n",
            "Epoch 14/20\n",
            "76/76 [==============================] - 18s 240ms/step - loss: 5.9039e-04 - accuracy: 1.0000 - val_loss: 15.0717 - val_accuracy: 0.1488\n",
            "Epoch 15/20\n",
            "76/76 [==============================] - 18s 237ms/step - loss: 5.1014e-04 - accuracy: 1.0000 - val_loss: 15.3541 - val_accuracy: 0.1488\n",
            "Epoch 16/20\n",
            "76/76 [==============================] - 19s 254ms/step - loss: 4.4520e-04 - accuracy: 1.0000 - val_loss: 15.6196 - val_accuracy: 0.1488\n",
            "Epoch 17/20\n",
            "76/76 [==============================] - 18s 240ms/step - loss: 3.9141e-04 - accuracy: 1.0000 - val_loss: 15.8703 - val_accuracy: 0.1488\n",
            "Epoch 18/20\n",
            "76/76 [==============================] - 18s 239ms/step - loss: 3.4665e-04 - accuracy: 1.0000 - val_loss: 16.1080 - val_accuracy: 0.1488\n",
            "Epoch 19/20\n",
            "76/76 [==============================] - 19s 243ms/step - loss: 3.0888e-04 - accuracy: 1.0000 - val_loss: 16.3343 - val_accuracy: 0.1488\n",
            "Epoch 20/20\n",
            "76/76 [==============================] - 20s 259ms/step - loss: 2.7655e-04 - accuracy: 1.0000 - val_loss: 16.5504 - val_accuracy: 0.1488\n"
          ]
        },
        {
          "data": {
            "text/plain": [
              "<keras.callbacks.History at 0x7f0ebd740190>"
            ]
          },
          "execution_count": 35,
          "metadata": {},
          "output_type": "execute_result"
        }
      ],
      "source": [
        "model.fit_generator(x_train,steps_per_epoch=len(x_train), validation_data=x_test, validation_steps=len(x_test), epochs= 20)"
      ]
    },
    {
      "cell_type": "code",
      "execution_count": 36,
      "metadata": {
        "id": "DrWsfjb2skHd"
      },
      "outputs": [],
      "source": [
        "model.save(\"nutrition.h5\")"
      ]
    },
    {
      "cell_type": "code",
      "execution_count": 37,
      "metadata": {
        "id": "LRXWcadWw3rQ"
      },
      "outputs": [],
      "source": [
        "#Prediction the result"
      ]
    },
    {
      "cell_type": "code",
      "execution_count": 38,
      "metadata": {
        "id": "aQA3OhodxG51"
      },
      "outputs": [],
      "source": [
        "from tensorflow.keras.models import load_model\n",
        "from keras.preprocessing  import image\n",
        "model =load_model(\"nutrition.h5\")"
      ]
    },
    {
      "cell_type": "code",
      "execution_count": 39,
      "metadata": {
        "id": "UFSOf6wQxKeq"
      },
      "outputs": [],
      "source": [
        "import numpy as np"
      ]
    },
    {
      "cell_type": "code",
      "execution_count": 42,
      "metadata": {
        "id": "h0iQs3DGxNIL",
        "colab": {
          "base_uri": "https://localhost:8080/"
        },
        "outputId": "15780f1b-ffd1-4b80-acb9-89feb0bea826"
      },
      "outputs": [
        {
          "output_type": "stream",
          "name": "stdout",
          "text": [
            "1/1 [==============================] - 0s 134ms/step\n"
          ]
        },
        {
          "output_type": "execute_result",
          "data": {
            "text/plain": [
              "array([0])"
            ]
          },
          "metadata": {},
          "execution_count": 42
        }
      ],
      "source": [
        "from tensorflow.keras.utils import load_img\n",
        "from tensorflow.keras.utils import img_to_array\n",
        "#loading of the image\n",
        "img = load_img(r'/content/drive/MyDrive/TEST_SET/PINEAPPLE/r_23_100.jpg', grayscale=False,target_size=(64,64))\n",
        "#image to array \n",
        "x = img_to_array(img)\n",
        "#changing the shape\n",
        "x= np.expand_dims(x,axis = 0)\n",
        "predict_x=model.predict(x)\n",
        "classes_x=np.argmax(predict_x,axis = -1)\n",
        "classes_x"
      ]
    },
    {
      "cell_type": "code",
      "execution_count": 43,
      "metadata": {
        "id": "ACEQePP5xRLx",
        "colab": {
          "base_uri": "https://localhost:8080/",
          "height": 36
        },
        "outputId": "d93d89d3-28d9-4d3c-d21e-1efd66b71479"
      },
      "outputs": [
        {
          "output_type": "execute_result",
          "data": {
            "text/plain": [
              "'APPLES'"
            ],
            "application/vnd.google.colaboratory.intrinsic+json": {
              "type": "string"
            }
          },
          "metadata": {},
          "execution_count": 43
        }
      ],
      "source": [
        "index=['APPLES', 'BANANA', 'ORANGE', 'PINEAPPLE', 'WATERMELON']\n",
        "result=str(index[classes_x[0]])\n",
        "result\n"
      ]
    }
  ],
  "metadata": {
    "colab": {
      "collapsed_sections": [],
      "provenance": []
    },
    "kernelspec": {
      "display_name": "Python 3",
      "name": "python3"
    },
    "language_info": {
      "name": "python"
    }
  },
  "nbformat": 4,
  "nbformat_minor": 0
}